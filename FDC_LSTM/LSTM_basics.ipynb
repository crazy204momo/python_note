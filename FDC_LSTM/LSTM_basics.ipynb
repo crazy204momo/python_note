{
 "cells": [
  {
   "cell_type": "code",
   "execution_count": null,
   "metadata": {},
   "outputs": [],
   "source": [
    "import numpy as np\n",
    "import matplotlib.pyplot as plt\n",
    "\n",
    "# Generate data\n",
    "n = 500\n",
    "t = np.linspace(0,20.0*np.pi,n)\n",
    "X = np.sin(t) # X is already between -1 and 1, scaling normally needed\n"
   ]
  },
  {
   "cell_type": "code",
   "execution_count": null,
   "metadata": {},
   "outputs": [],
   "source": [
    "# Set window of past points for LSTM model\n",
    "window = 10 \n",
    "\n",
    "# Split 80/20 into train/test data\n",
    "last = int(n/5.0)\n",
    "Xtrain = X[:-last]\n",
    "Xtest = X[-last-window:]\n",
    "\n",
    "# Store window number of points as a sequence\n",
    "xin = []\n",
    "next_X = []\n",
    "for i in range(window,len(Xtrain)):\n",
    "    xin.append(Xtrain[i-window:i])\n",
    "    next_X.append(Xtrain[i])\n",
    "\n",
    "# Reshape data to format for LSTM\n",
    "xin, next_X = np.array(xin), np.array(next_X)\n",
    "xin = xin.reshape(xin.shape[0], xin.shape[1], 1)"
   ]
  },
  {
   "cell_type": "code",
   "execution_count": null,
   "metadata": {},
   "outputs": [],
   "source": [
    "from keras.models import Sequential\n",
    "from keras.layers import Dense\n",
    "from keras.layers import LSTM\n",
    "from keras.layers import Dropout\n",
    "\n",
    "# Initialize LSTM model\n",
    "m = Sequential()\n",
    "m.add(LSTM(units=50, return_sequences=True, input_shape=(xin.shape[1],1)))\n",
    "m.add(Dropout(0.2))\n",
    "m.add(LSTM(units=50))\n",
    "m.add(Dropout(0.2))\n",
    "m.add(Dense(units=1))\n",
    "m.compile(optimizer = 'adam', loss = 'mean_squared_error')"
   ]
  },
  {
   "cell_type": "code",
   "execution_count": null,
   "metadata": {},
   "outputs": [],
   "source": [
    "# Fit LSTM model\n",
    "history = m.fit(xin, next_X, epochs = 50, batch_size = 50,verbose=0)\n",
    "\n",
    "plt.figure()\n",
    "plt.ylabel('loss'); plt.xlabel('epoch')\n",
    "plt.semilogy(history.history['loss'])"
   ]
  },
  {
   "cell_type": "code",
   "execution_count": null,
   "metadata": {},
   "outputs": [],
   "source": [
    "# Store \"window\" points as a sequence\n",
    "xin = []\n",
    "next_X1 = []\n",
    "for i in range(window,len(Xtest)):\n",
    "    xin.append(Xtest[i-window:i])\n",
    "    next_X1.append(Xtest[i])\n",
    "\n",
    "# Reshape data to format for LSTM\n",
    "xin, next_X1 = np.array(xin), np.array(next_X1)\n",
    "xin = xin.reshape((xin.shape[0], xin.shape[1], 1))\n",
    "\n",
    "# Predict the next value (1 step ahead)\n",
    "X_pred = m.predict(xin)\n",
    "\n",
    "# Plot prediction vs actual for test data\n",
    "plt.figure()\n",
    "plt.plot(X_pred,':',label='LSTM')\n",
    "plt.plot(next_X1,'--',label='Actual')\n",
    "plt.legend()"
   ]
  },
  {
   "cell_type": "code",
   "execution_count": null,
   "metadata": {},
   "outputs": [],
   "source": [
    "# Using predicted values to predict next step\n",
    "X_pred = Xtest.copy()\n",
    "for i in range(window,len(X_pred)):\n",
    "    xin = X_pred[i-window:i].reshape((1, window, 1))\n",
    "    X_pred[i] = m.predict(xin)\n",
    "\n",
    "# Plot prediction vs actual for test data\n",
    "plt.figure()\n",
    "plt.plot(X_pred[window:],':',label='LSTM')\n",
    "plt.plot(next_X1,'--',label='Actual')\n",
    "plt.legend()"
   ]
  }
 ],
 "metadata": {
  "language_info": {
   "name": "python"
  }
 },
 "nbformat": 4,
 "nbformat_minor": 2
}
