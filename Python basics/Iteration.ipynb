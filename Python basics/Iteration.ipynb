{
 "cells": [
  {
   "cell_type": "markdown",
   "metadata": {},
   "source": [
    "## Iterables & Iterators\n",
    "\n",
    "### How `for loop` works with `iter()`\n",
    "```\n",
    "dog_foods = {\n",
    "  \"Great Dane Foods\": 4,\n",
    "  \"Min Pip Pup Foods\": 10,\n",
    "  \"Pawsome Pup Foods\": 8\n",
    "}\n",
    "for food_brand in dog_foods:\n",
    "  print (food_brand + \" has \" + str(dog_foods[food_brand]) + \" bags\")\n",
    "```\n",
    "![for loop iterables](./assets/python-iter-forloop.png)\n",
    "Main steps of a for loop:\n",
    "1. The for loop will first retrieve an iterator object for the `dog_foods` dictionary using `iter()`.\n",
    "\n",
    "2. Then, `next()` is called on each iteration of the for loop to retrieve the next value. This value is set to the for loop’s variable, `food_brand`.\n",
    "\n",
    "3. On each for loop iteration, the print statement is executed, until finally, the for loop executes a call to `next()` that raises the `StopIteration` exception. The for loop then exits and is finished iterating."
   ]
  },
  {
   "cell_type": "markdown",
   "metadata": {},
   "source": [
    "### Example of making a custom class iterable"
   ]
  },
  {
   "cell_type": "code",
   "execution_count": 10,
   "metadata": {},
   "outputs": [],
   "source": [
    "\n",
    "# Implement the iterator protocol by defining the __iter__() and __next__() methods.\n",
    "class FishInventory:\n",
    "  def __init__(self, fishList):\n",
    "      self.available_fish = fishList\n",
    "  \n",
    "  # __iter__() method returns itself since this class will be an iterator object.\n",
    "  def __iter__(self):\n",
    "    self.index = 0\n",
    "    return self\n",
    "  \n",
    "  # __next__() method to traverse over the list\n",
    "  def __next__(self):\n",
    "    # Add StopIteration condition to avoid iterating over the elements of the list\n",
    "    if self.index < len(self.available_fish):\n",
    "      fish_status = self.available_fish[self.index] + \" is available!\"\n",
    "      self.index += 1\n",
    "      return fish_status\n",
    "    else:\n",
    "      raise StopIteration"
   ]
  },
  {
   "cell_type": "code",
   "execution_count": 11,
   "metadata": {},
   "outputs": [
    {
     "name": "stdout",
     "output_type": "stream",
     "text": [
      "Bubbles is available!\n",
      "Finley is available!\n",
      "Moby is available!\n"
     ]
    }
   ],
   "source": [
    "# Create iterable class\n",
    "fish_inventory_cls = FishInventory([\"Bubbles\", \"Finley\", \"Moby\"])\n",
    "# Traverse over the elements in class\n",
    "# turn the class iterable\n",
    "iter(fish_inventory_cls)\n",
    "# call next() to iterate through the class\n",
    "print(next(fish_inventory_cls))\n",
    "print(next(fish_inventory_cls))\n",
    "print(next(fish_inventory_cls))"
   ]
  },
  {
   "cell_type": "markdown",
   "metadata": {},
   "source": [
    "### Python  built-in `itertools` iterators\n",
    "![alt text](./assets/python-iter-type.png)"
   ]
  },
  {
   "cell_type": "markdown",
   "metadata": {},
   "source": [
    "**1. Infinite Iterator: Count**\n",
    "\n",
    "We have several 13.5lb bags of dog food to display. Our single shelving unit however can only hold a maximum of 1,000lbs. Let’s figure out how many bags of food we can display!"
   ]
  },
  {
   "cell_type": "code",
   "execution_count": 12,
   "metadata": {},
   "outputs": [
    {
     "name": "stdout",
     "output_type": "stream",
     "text": [
      "74\n"
     ]
    }
   ],
   "source": [
    "import itertools\n",
    "max_capacity = 1000\n",
    "num_bags = 0\n",
    "# This infinite iterator will count from a first value \n",
    "# until we provide some type of stop condition.\n",
    "# Stop condition here is when count reaches max capacity\n",
    "for i in itertools.count(start=13.5, step=13.5):\n",
    "  if i<max_capacity:\n",
    "    num_bags+=1\n",
    "  else:\n",
    "    break\n",
    "print(num_bags)"
   ]
  },
  {
   "cell_type": "markdown",
   "metadata": {},
   "source": [
    "**2. Input-Dependent Iterator: Chain**\n",
    "\n",
    "An input-dependent iterator will terminate based on the length of one or more input values. They are **great for working with and modifying existing iterators**.\n",
    "\n",
    "`chain()` takes in one or more iterables and combine them into a single iterator.\n"
   ]
  },
  {
   "cell_type": "code",
   "execution_count": 16,
   "metadata": {},
   "outputs": [
    {
     "name": "stdout",
     "output_type": "stream",
     "text": [
      "[1, 3, 5, 7, 9, 2, 4, 6, 8, 10, 'e', 'i', 'u', 'a', 'o', 'B', 'C', 'D']\n"
     ]
    }
   ],
   "source": [
    "from itertools import chain\n",
    "# The input value of chain() supports one or more iterables \n",
    "# with varying iterable types.\n",
    "odd = [1, 3, 5, 7, 9] # list\n",
    "even = (2, 4, 6, 8, 10) # tuple\n",
    "vowel = set(['a', 'e', 'i', 'o', 'u']) # set\n",
    "alphabet = {'B': 'b', 'C':'c','D':'d'} # dictionary\n",
    "\n",
    "# chaining all iterables\n",
    "numbers = list(chain(odd, even, vowel, alphabet))\n",
    "\n",
    "print(numbers)\n"
   ]
  },
  {
   "cell_type": "markdown",
   "metadata": {},
   "source": [
    "**3. Combinatoric Iterator: Combinations**\n",
    "\n",
    "A combinatoric iterator will perform a set of statistical or mathematical operations on an input iterable.\n",
    "\n",
    "`combinations()` will produce an iterator of tuples that contain combinations of all elements in the input.\n",
    "\n",
    "`combinations(iterable, r)`\n",
    "\n",
    "The function takes in two inputs.\n",
    "The first is an iterable, and the second is a value `r` that represents the length of each combination tuple."
   ]
  },
  {
   "cell_type": "code",
   "execution_count": null,
   "metadata": {},
   "outputs": [],
   "source": [
    "import itertools\n",
    "even = [2, 4, 6]\n",
    "even_combinations = list(itertools.combinations(even, 2))\n",
    "print(even_combinations)"
   ]
  }
 ],
 "metadata": {
  "kernelspec": {
   "display_name": "myenv",
   "language": "python",
   "name": "python3"
  },
  "language_info": {
   "codemirror_mode": {
    "name": "ipython",
    "version": 3
   },
   "file_extension": ".py",
   "mimetype": "text/x-python",
   "name": "python",
   "nbconvert_exporter": "python",
   "pygments_lexer": "ipython3",
   "version": "3.10.6"
  }
 },
 "nbformat": 4,
 "nbformat_minor": 2
}
