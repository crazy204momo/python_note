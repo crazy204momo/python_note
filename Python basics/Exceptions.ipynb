{
 "cells": [
  {
   "cell_type": "markdown",
   "metadata": {},
   "source": [
    "Exceptions are objects just like anything else. Most exceptions inherit directly from a class called `Exception`; however, they all are derived directly or indirectly from the `BaseException` class. We can examine the base classes by using the `__bases__` attribute on any specific exception:\n"
   ]
  },
  {
   "cell_type": "code",
   "execution_count": null,
   "metadata": {},
   "outputs": [],
   "source": [
    "print(NameError.__bases__)"
   ]
  },
  {
   "cell_type": "markdown",
   "metadata": {},
   "source": [
    "Check out the full hierarchy of built-in exceptions in python in this link:\n",
    "[Python Doc: Built in Exception](https://docs.python.org/3/library/exceptions.html#built-in-exceptions)"
   ]
  },
  {
   "cell_type": "code",
   "execution_count": null,
   "metadata": {},
   "outputs": [],
   "source": [
    "# Example to raise exception\n",
    "\n",
    "def open_register(employee_status):\n",
    "  if employee_status == 'Authorized':\n",
    "    print('Successfully opened cash register')\n",
    "  else:\n",
    "    # Alternatives: raise TypeError() or TypeError('Message')\n",
    "    # Or raise base Exception class if no specific type of exception fits\n",
    "    # Exception('Employee does not have access!')\n",
    "    raise TypeError"
   ]
  },
  {
   "cell_type": "code",
   "execution_count": null,
   "metadata": {},
   "outputs": [],
   "source": [
    "# Example to catch specific type of exception\n",
    "\n",
    "staff = {\n",
    "  'Austin': {\n",
    "    'floor managers': 1,\n",
    "    'sales associates': 5\n",
    "  },\n",
    "  'Melbourne': {\n",
    "    'floor managers': 0,\n",
    "    'sales associates': 8\n",
    "  },\n",
    "  'Beijing': {\n",
    "    'floor managers': 2,\n",
    "    'sales associates': 5\n",
    "  },\n",
    "}\n",
    "\n",
    "def print_staff_report(location, staff_dict):\n",
    "  managers = staff_dict['floor managers']\n",
    "  sales_people = staff_dict['sales associates']\n",
    "  ratio = sales_people / managers\n",
    "  print('Instrument World ' + location + ' has:')\n",
    "  print(str(sales_people) + ' sales employees')\n",
    "  print(str(managers) + ' floor managers')\n",
    "  print('The ratio of sales people to managers is ' + str(ratio))\n",
    "  print()\n",
    "\n",
    "\n",
    "# In the following program, a ZeroDivisionError, NameError or KeyError will trigger one of the first three exception handlers.\n",
    "# Any other exception will trigger the fourth handler. \n",
    "# Note that the order of handlers is important here - if an exception is encountered,\n",
    "# Python will execute the first one that matches its type. \n",
    "# In this case, and a valid strategy for exception handling, \n",
    "# we use the last except clause as a generic Exception as a backup if no other specific exception gets caught.\n",
    "\n",
    "for location, staff in staff.items():\n",
    "    try:\n",
    "        print_staff_report(location, staff)\n",
    "\n",
    "    except ZeroDivisionError as e:\n",
    "        print('Could not print sales report for ' + location)\n",
    "        print(e)\n",
    "    except NameError:\n",
    "        print('We hit a NameError Exception!')\n",
    "    except KeyError:\n",
    "        print('We hit a TypeError Exception!')\n",
    "    except Exception:\n",
    "        print('We hit an exception that is not a NameError or TypeError!')"
   ]
  },
  {
   "cell_type": "code",
   "execution_count": null,
   "metadata": {},
   "outputs": [],
   "source": [
    "1. "
   ]
  }
 ],
 "metadata": {
  "language_info": {
   "name": "python"
  },
  "orig_nbformat": 4
 },
 "nbformat": 4,
 "nbformat_minor": 2
}
