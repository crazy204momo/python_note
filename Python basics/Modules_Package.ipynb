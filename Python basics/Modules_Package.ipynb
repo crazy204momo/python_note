{
 "cells": [
  {
   "cell_type": "markdown",
   "metadata": {},
   "source": [
    "#### What are Module and Package?\n",
    "1. **Module**:  \n",
    "**Python files** with a `.py` extension. The name of the module is the same as the file name.   \n",
    "A Python module can have a set of functions, classes, or variables defined and implemented.\n",
    "\n",
    "2. **Package**:  \n",
    "**Packages are namespaces containing multiple packages and modules.**  \n",
    "They're just **directories** which MUST contain a special file called `__init__.py`.  \n",
    "The `__init__.py` file, **which can be empty**, indicates that the directory it's in is a Python package. That way it can be imported the same way as a module."
   ]
  },
  {
   "cell_type": "markdown",
   "metadata": {},
   "source": [
    "![Python-package-module](./assets/python-package-n.png)"
   ]
  },
  {
   "cell_type": "markdown",
   "metadata": {},
   "source": [
    "Outline:\n",
    "1. Methods to import modules\n",
    "2. Module initialization/pycache\n",
    "3. Add python path\n",
    "4. dir() function\n",
    "5. writing packages\n",
    "6. if \\_\\_name\\_\\_ == \"\\_\\_main\\_\\_\":\n",
    "\n",
    "reference:\n",
    "1. https://datasciocean.tech/python-tutorial/python-if-name-equal-main-explain/\n",
    "\n",
    "2. https://datasciocean.tech/python-tutorial/python-package-and-module-explain/\n",
    "\n",
    "3. https://www.learncodewithmike.com/2020/01/python-module-and-package.html\n",
    "\n",
    "4. https://www.learnpython.org/en/Modules_and_Packages\n",
    "\n"
   ]
  },
  {
   "cell_type": "code",
   "execution_count": null,
   "metadata": {},
   "outputs": [],
   "source": [
    "\n"
   ]
  }
 ],
 "metadata": {
  "language_info": {
   "name": "python"
  },
  "orig_nbformat": 4
 },
 "nbformat": 4,
 "nbformat_minor": 2
}
